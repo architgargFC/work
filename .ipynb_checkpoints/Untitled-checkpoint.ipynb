{
 "cells": [
  {
   "cell_type": "code",
   "execution_count": null,
   "id": "ae07a5f3-0138-40c9-9d91-8a980021382b",
   "metadata": {},
   "outputs": [],
   "source": [
    "vfkvnmgw;rfiwop;fw"
   ]
  }
 ],
 "metadata": {
  "kernelspec": {
   "display_name": "",
   "name": ""
  },
  "language_info": {
   "name": ""
  }
 },
 "nbformat": 4,
 "nbformat_minor": 5
}
